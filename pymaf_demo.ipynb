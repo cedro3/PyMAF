{
  "cells": [
    {
      "cell_type": "markdown",
      "metadata": {
        "id": "view-in-github",
        "colab_type": "text"
      },
      "source": [
        "<a href=\"https://colab.research.google.com/github/cedro3/PyMAF/blob/master/pymaf_demo.ipynb\" target=\"_parent\"><img src=\"https://colab.research.google.com/assets/colab-badge.svg\" alt=\"Open In Colab\"/></a>"
      ]
    },
    {
      "cell_type": "code",
      "execution_count": null,
      "metadata": {
        "id": "Plo2YZZmaDtY"
      },
      "outputs": [],
      "source": [
        "#@title セットアップ\n",
        "# githubからコードを取得\n",
        "! git clone https://github.com/sugi-san/PyMAF.git\n",
        "%cd PyMAF\n",
        "\n",
        "# 必要なファイルをダウンロード\n",
        "! wget --no-check-certificate \"https://onedrive.live.com/download?cid=DF2414B28D1B6A99&resid=DF2414B28D1B6A99%21862&authkey=AJqiZVYmJa6jgoU\" -O pymaf_data_for_demo.zip\n",
        "! unzip pymaf_data_for_demo.zip\n",
        "\n",
        "# pytorchバージョン変更\n",
        "! pip install -U https://download.pytorch.org/whl/cu100/torch-1.1.0-cp37-cp37m-linux_x86_64.whl\n",
        "! pip install -U https://download.pytorch.org/whl/cu100/torchvision-0.3.0-cp37-cp37m-linux_x86_64.whl\n",
        "\n",
        "# ライブラリーインストール\n",
        "! pip install -r requirements.txt\n",
        "! pip install imageio==2.4.1\n",
        "! pip install pyglet==1.5.27\n",
        "\n",
        "# 関数読み込み\n",
        "from function import *\n"
      ]
    },
    {
      "cell_type": "code",
      "execution_count": null,
      "metadata": {
        "id": "KmHCtKpHqt9V"
      },
      "outputs": [],
      "source": [
        "#@title 3Dモデルの推定\n",
        "video = 'sample3.mp4' #@param {type:\"string\"}\n",
        "video_path = 'video/'+video\n",
        "\n",
        "# モデル推定\n",
        "! python3 demo.py --checkpoint=data/pretrained_model/PyMAF_model_checkpoint.pt\\\n",
        "                  --vid_file $video_path\n",
        "\n",
        "# 推定動画の作成\n",
        "print('making video...')\n",
        "fps = get_fps(video_path)\n",
        "dir_name = 'output/'+os.path.splitext(video)[0]+'/'+os.path.splitext(video)[0]+'_mp4_output'\n",
        "file_name = dir_name+'/%6d.png'\n",
        "! ffmpeg -y -r $fps -i $file_name -vcodec libx264 -pix_fmt yuv420p -loglevel error out.mp4\n",
        "\n",
        "# 音声の抽出＆付加\n",
        "print('preparation for sound...')\n",
        "! ffmpeg -y -i $video_path -loglevel error sound.mp3\n",
        "! ffmpeg -y -i out.mp4 -i sound.mp3 -loglevel error output.mp4"
      ]
    },
    {
      "cell_type": "code",
      "execution_count": null,
      "metadata": {
        "id": "TuBVz-eFIa_Z"
      },
      "outputs": [],
      "source": [
        "#@title 動画の再生\n",
        "display_mp4('output.mp4')"
      ]
    },
    {
      "cell_type": "code",
      "source": [
        "#@title 動画のダウンロード（chrome専用）\n",
        "import os\n",
        "import shutil\n",
        "from google.colab import files\n",
        "\n",
        "name = os.path.splitext(video)\n",
        "file_name = name[0]+'_3d.mp4'\n",
        "shutil.copy('output.mp4', 'download/'+file_name)\n",
        "files.download('download/'+file_name)"
      ],
      "metadata": {
        "id": "3_HnWecAgKFY"
      },
      "execution_count": null,
      "outputs": []
    }
  ],
  "metadata": {
    "accelerator": "GPU",
    "colab": {
      "provenance": [],
      "include_colab_link": true
    },
    "kernelspec": {
      "display_name": "Python 3",
      "name": "python3"
    },
    "language_info": {
      "name": "python"
    }
  },
  "nbformat": 4,
  "nbformat_minor": 0
}